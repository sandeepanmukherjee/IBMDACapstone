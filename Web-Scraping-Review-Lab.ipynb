{
    "cells": [
        {
            "metadata": {},
            "cell_type": "markdown",
            "source": "<center>\n    <img src=\"https://gitlab.com/ibm/skills-network/courses/placeholder101/-/raw/master/labs/module%201/images/IDSNlogo.png\" width=\"300\" alt=\"cognitiveclass.ai logo\"  />\n</center>\n"
        },
        {
            "metadata": {},
            "cell_type": "markdown",
            "source": "# **Web Scraping Lab**\n"
        },
        {
            "metadata": {},
            "cell_type": "markdown",
            "source": "Estimated time needed: **30** minutes\n"
        },
        {
            "metadata": {},
            "cell_type": "markdown",
            "source": "## Objectives\n"
        },
        {
            "metadata": {},
            "cell_type": "markdown",
            "source": "After completing this lab you will be able to:\n"
        },
        {
            "metadata": {},
            "cell_type": "markdown",
            "source": "-   Download a webpage using requests module\n-   Scrape all links from a web page\n-   Scrape all image urls from a web page\n-   Scrape data from html tables\n"
        },
        {
            "metadata": {},
            "cell_type": "markdown",
            "source": "## Scrape [www.ibm.com](http://www.ibm.com?cm_mmc=Email_Newsletter-_-Developer_Ed%2BTech-_-WW_WW-_-SkillsNetwork-Courses-IBM-DA0321EN-SkillsNetwork-21426264&cm_mmca1=000026UJ&cm_mmca2=10006555&cm_mmca3=M12345678&cvosrc=email.Newsletter.M12345678&cvo_campaign=000026UJ&cm_mmc=Email_Newsletter-_-Developer_Ed%2BTech-_-WW_WW-_-SkillsNetwork-Courses-IBM-DA0321EN-SkillsNetwork-21426264&cm_mmca1=000026UJ&cm_mmca2=10006555&cm_mmca3=M12345678&cvosrc=email.Newsletter.M12345678&cvo_campaign=000026UJ)\n"
        },
        {
            "metadata": {},
            "cell_type": "markdown",
            "source": "Import the required modules and functions\n"
        },
        {
            "metadata": {},
            "cell_type": "code",
            "source": "from bs4 import BeautifulSoup # this module helps in web scrapping.\nimport requests  # this module helps us to download a web page",
            "execution_count": 1,
            "outputs": []
        },
        {
            "metadata": {},
            "cell_type": "markdown",
            "source": "Download the contents of the web page\n"
        },
        {
            "metadata": {},
            "cell_type": "code",
            "source": "url = \"http://www.ibm.com\"",
            "execution_count": 2,
            "outputs": []
        },
        {
            "metadata": {},
            "cell_type": "code",
            "source": "# get the contents of the webpage in text format and store in a variable called data\ndata  = requests.get(url).text ",
            "execution_count": 3,
            "outputs": []
        },
        {
            "metadata": {},
            "cell_type": "markdown",
            "source": "Create a soup object using the class BeautifulSoup\n"
        },
        {
            "metadata": {},
            "cell_type": "code",
            "source": "soup = BeautifulSoup(data,\"html5lib\")  # create a soup object using the variable 'data'",
            "execution_count": 4,
            "outputs": []
        },
        {
            "metadata": {},
            "cell_type": "markdown",
            "source": "Scrape all links\n"
        },
        {
            "metadata": {},
            "cell_type": "code",
            "source": "for link in soup.find_all('a'):  # in html anchor/link is represented by the tag <a>\n    print(link.get('href'))",
            "execution_count": 5,
            "outputs": [
                {
                    "name": "stdout",
                    "output_type": "stream",
                    "text": "https://www.ibm.com/de/de\nhttps://www.ibm.com/sitemap/de/de\n/de-de/node/1706826\nhttps://www.ibm.com/account/reg/signup?formid=urx-49365&lnk=dehpv18l1\nhttps://1.cms.s81c.com/sites/default/files/2021-02-22/threat-intel-index-leadspace.jpg\nhttps://1.dam.s81c.com/public/content/dam/worldwide-content/homepage/ul/g/06/78/20210301-xforce-threat-intelligence-444x320.png\nhttps://www.ibm.com/security/data-breach/threat-intelligence?lnk=dehpv18l1\n/taxonomy/term/85416\n/de-de/node/1706856\nhttps://www.ibm.com/blogs/think/de-de/2021/03/weltfrauentag-2021/\n/taxonomy/term/85416\n/de-de/node/1706851\n/de-de/node/1706836\n/de-de/node/2634010\n/de-de/node/2522711\n/de-de/node/2522719\n/taxonomy/term/85416\n/de-de/node/1706821\n/taxonomy/term/85416\nhttps://www.ibm.com/employment/de-de/?lnk=mca_dede\n/de-de/node/1706816\nhttps://www.ibm.com/de-de/products/offers-and-discounts?lnk=STW_DE_HPT_T5_TL&psrc=NONE&pexp=DEF&lnk2=discount_MPDISC\n/de-de/node/1706796\n/de-de/node/1706801\n/de-de/node/1706806\n/de-de/node/1706811\n/taxonomy/term/85416\n/de-de/node/1706866\n/de-de/node/2741119\n/taxonomy/term/85416\n/de-de/products\nhttps://www.ibm.com/security/data-breach/threat-intelligence?lnk=dehpv18l1\nhttps://www.ibm.com/account/reg/signup?formid=urx-49365&lnk=dehpv18l1\nhttps://www.ibm.com/security/data-breach/threat-intelligence?lnk=dehpv18l1\nhttps://www.ibm.com/account/reg/signup?formid=urx-49365&lnk=dehpv18l1\nhttps://www.ibm.com/de-de/events/think/events/OT-security-LCTY/?lnk=dehpv18f2\nhttps://www.ibm.com/services/de-de/ibmix/digital-talks/?lnk=dehpv18f1\nhttps://www.ibm.com/de-de/cloud/satellite?lnk=dehpv18f3\nhttps://www.youtube.com/watch?v=rRQnrOLubIw&list=PL8SfcYmdwe2b_bXkuuG-7nTkIcxLzQOzA&index=1&lnk=dehpv18f4\nhttps://www.ibm.com/search?lang=de&amp;cc=de&amp;q=\n/de-de/products\n/de-de/products\n//www.ibm.com/de-de/products/category/technology/analytics\n//www.ibm.com/de-de/products/category/technology/IT-infrastructure\n//www.ibm.com/de-de/products/category/technology/mobile-technology\n//www.ibm.com/de-de/products/category/technology/blockchain\n//www.ibm.com/de-de/products/category/technology/IT-management\n//www.ibm.com/de-de/products/category/technology/security\n//www.ibm.com/de-de/products/category/technology/cloud-computing\n//www.ibm.com/de-de/products/category/technology/cognitive-computing-and-AI\n//www.ibm.com/de-de/products/category/technology/software-development\n//www.ibm.com/de-de/products/category/technology/analytics\n//www.ibm.com/de-de/products/category/technology/IT-infrastructure\n//www.ibm.com/de-de/products/category/technology/mobile-technology\n//www.ibm.com/de-de/products/category/technology/blockchain\n//www.ibm.com/de-de/products/category/technology/IT-management\n//www.ibm.com/de-de/products/category/technology/security\n//www.ibm.com/de-de/products/category/technology/cloud-computing\n//www.ibm.com/de-de/products/category/technology/cognitive-computing-and-AI\n//www.ibm.com/de-de/products/category/technology/software-development\n//www.ibm.com/de-de/products/category/business/commerce\n//www.ibm.com/de-de/products/category/business/customer-service-and-CRM\n//www.ibm.com/de-de/products/category/business/human-resources\n//www.ibm.com/de-de/products/category/business/finance\n//www.ibm.com/de-de/products/category/business/content-management\n//www.ibm.com/de-de/products/category/business/supply-chain-management\n//www.ibm.com/de-de/products/category/business/business-operations\n//www.ibm.com/de-de/products/category/business/marketing\n//www.ibm.com/de-de/products/category/business/collaboration\nhttps://www.ibm.com/it-infrastructure/storage/flash/offers/de-de?lnk=dehpv18f2\nhttps://www.ibm.com/it-infrastructure/storage/flash/offers/de-de?lnk=dehpv18f2\nhttps://www.ibm.com/it-infrastructure/storage/flash/offers/de-de?lnk=dehpv18f2\n##\nhttps://www.ibm.com/it-infrastructure/storage/flash/offers/de-de?lnk=dehpv18f2\nhttps://www.ibm.com/it-infrastructure/storage/flash/offers/de-de?lnk=dehpv18f2\n##\nhttps://www.ibm.com/it-infrastructure/storage/flash/offers/de-de?lnk=dehpv18f2\nhttps://www.ibm.com/it-infrastructure/storage/flash/offers/de-de?lnk=dehpv18f2\nhttps://www.ibm.com/it-infrastructure/storage/flash/offers/de-de?lnk=dehpv18f2\nhttps://www.ibm.com/de-de/products/offers-and-discounts?lnk=STW_DE_HPT_T5_TL&psrc=NONE&pexp=DEF&lnk2=discount_MPDISC\nhttps://www.ibm.com/de-de/products/food-trust?lnk=STW_DE_HPT_T1_BLK&psrc=NONE&pexp=DEF&lnk2=demo_FoodTrust\nhttps://www.ibm.com/de-de/garage?lnk=STW_DE_HPT_T2_BLK&psrc=NONE&pexp=DEF&lnk2=learn_CloudGarage\nhttps://www.ibm.com/de-de/products/maximo?lnk=STW_DE_HPT_T3_BLK&psrc=NONE&pexp=DEF&lnk2=trial_Maximo\nhttps://www.ibm.com/de-de/products/supply-chain-insights?lnk=STW_DE_HPT_T4_BLK&psrc=NONE&pexp=DEF&lnk2=demo_SterlingSCInsWat\nhttps://www.ibm.com/employment/de-de/?lnk=mca_dede\nhttps://www.ibm.com/employment/de-de/?lnk=mca_dede\n#\n"
                }
            ]
        },
        {
            "metadata": {},
            "cell_type": "markdown",
            "source": "Scrape  all images\n"
        },
        {
            "metadata": {},
            "cell_type": "code",
            "source": "for link in soup.find_all('img'):# in html image is represented by the tag <img>\n    print(link.get('src'))",
            "execution_count": 6,
            "outputs": [
                {
                    "name": "stdout",
                    "output_type": "stream",
                    "text": "https://1.dam.s81c.com/public/content/dam/worldwide-content/homepage/ul/g/06/78/20210301-xforce-threat-intelligence-444x320.png\nhttps://1.dam.s81c.com/public/content/dam/worldwide-content/other/ul/g/05/b6/05b6f7e3-6fc7-430e-882ea25801499e6c.jpg\nhttps://1.dam.s81c.com/m/690c794b3820a16d/original/07092020-dede-dmexco-444x320.png\nhttps://1.dam.s81c.com/public/content/dam/worldwide-content/homepage/ul/g/f1/18/20210308-f-cloud-sattelite-25768.jpg\nhttps://1.dam.s81c.com/m/5014ea394693fcc9/original/30032020-dede-ibm-livestudio-444x320.png\nhttps://1.dam.s81c.com/m/2352e4b47046e77b/original/06082020-flashsystem-444x320.jpg\nhttps://1.dam.s81c.com/m/2352e4b47046e77b/original/06082020-flashsystem-444x320.jpg\nhttps://1.dam.s81c.com/m/2e5db2f6cd1ca7b4/original/food-trust-700x420.png\nhttps://1.dam.s81c.com/m/541013418470b0b9/original/ibm-garage-700x420.png\nhttps://1.dam.s81c.com/m/202276edc8f3b974/original/Maximo-20423-700x420.png\nhttps://1.dam.s81c.com/m/1d049c5e37aaa5de/original/supply_chain_insights_700x420.png\n"
                }
            ]
        },
        {
            "metadata": {},
            "cell_type": "markdown",
            "source": "## Scrape data from html tables\n"
        },
        {
            "metadata": {},
            "cell_type": "code",
            "source": "#The below url contains a html table with data about colors and color codes.",
            "execution_count": 7,
            "outputs": []
        },
        {
            "metadata": {},
            "cell_type": "code",
            "source": "url = \"https://cf-courses-data.s3.us.cloud-object-storage.appdomain.cloud/IBM-DA0321EN-SkillsNetwork/labs/datasets/HTMLColorCodes.html\"",
            "execution_count": 8,
            "outputs": []
        },
        {
            "metadata": {},
            "cell_type": "markdown",
            "source": "Before proceeding to scrape a web site, you need to examine the contents, and the way data is organized on the website. Open the above url in your browser and check how many rows and columns are there in the color table.\n"
        },
        {
            "metadata": {},
            "cell_type": "code",
            "source": "# get the contents of the webpage in text format and store in a variable called data\ndata  = requests.get(url).text",
            "execution_count": 9,
            "outputs": []
        },
        {
            "metadata": {},
            "cell_type": "code",
            "source": "soup = BeautifulSoup(data,\"html5lib\")",
            "execution_count": 10,
            "outputs": []
        },
        {
            "metadata": {},
            "cell_type": "code",
            "source": "#find a html table in the web page\ntable = soup.find('table') # in html table is represented by the tag <table>",
            "execution_count": 11,
            "outputs": []
        },
        {
            "metadata": {},
            "cell_type": "code",
            "source": "#Get all rows from the table\nfor row in table.find_all('tr'): # in html table row is represented by the tag <tr>\n    # Get all columns in each row.\n    cols = row.find_all('td') # in html a column is represented by the tag <td>\n    color_name = cols[2].getText() # store the value in column 3 as color_name\n    color_code = cols[3].getText() # store the value in column 4 as color_code\n    print(\"{}--->{}\".format(color_name,color_code))",
            "execution_count": 12,
            "outputs": [
                {
                    "name": "stdout",
                    "output_type": "stream",
                    "text": "Color Name--->Hex Code#RRGGBB\nlightsalmon--->#FFA07A\nsalmon--->#FA8072\ndarksalmon--->#E9967A\nlightcoral--->#F08080\ncoral--->#FF7F50\ntomato--->#FF6347\norangered--->#FF4500\ngold--->#FFD700\norange--->#FFA500\ndarkorange--->#FF8C00\nlightyellow--->#FFFFE0\nlemonchiffon--->#FFFACD\npapayawhip--->#FFEFD5\nmoccasin--->#FFE4B5\npeachpuff--->#FFDAB9\npalegoldenrod--->#EEE8AA\nkhaki--->#F0E68C\ndarkkhaki--->#BDB76B\nyellow--->#FFFF00\nlawngreen--->#7CFC00\nchartreuse--->#7FFF00\nlimegreen--->#32CD32\nlime--->#00FF00\nforestgreen--->#228B22\ngreen--->#008000\npowderblue--->#B0E0E6\nlightblue--->#ADD8E6\nlightskyblue--->#87CEFA\nskyblue--->#87CEEB\ndeepskyblue--->#00BFFF\nlightsteelblue--->#B0C4DE\ndodgerblue--->#1E90FF\n"
                }
            ]
        },
        {
            "metadata": {},
            "cell_type": "markdown",
            "source": "## Authors\n"
        },
        {
            "metadata": {},
            "cell_type": "markdown",
            "source": "Ramesh Sannareddy\n"
        },
        {
            "metadata": {},
            "cell_type": "markdown",
            "source": "### Other Contributors\n"
        },
        {
            "metadata": {},
            "cell_type": "markdown",
            "source": "Rav Ahuja\n"
        },
        {
            "metadata": {},
            "cell_type": "markdown",
            "source": "## Change Log\n"
        },
        {
            "metadata": {},
            "cell_type": "markdown",
            "source": "| Date (YYYY-MM-DD) | Version | Changed By        | Change Description                 |\n| ----------------- | ------- | ----------------- | ---------------------------------- |\n| 2020-10-17        | 0.1     | Ramesh Sannareddy | Created initial version of the lab |\n"
        },
        {
            "metadata": {},
            "cell_type": "markdown",
            "source": " Copyright \u00a9 2020 IBM Corporation. This notebook and its source code are released under the terms of the [MIT License](https://cognitiveclass.ai/mit-license?cm_mmc=Email_Newsletter-_-Developer_Ed%2BTech-_-WW_WW-_-SkillsNetwork-Courses-IBM-DA0321EN-SkillsNetwork-21426264&cm_mmca1=000026UJ&cm_mmca2=10006555&cm_mmca3=M12345678&cvosrc=email.Newsletter.M12345678&cvo_campaign=000026UJ&cm_mmc=Email_Newsletter-_-Developer_Ed%2BTech-_-WW_WW-_-SkillsNetwork-Courses-IBM-DA0321EN-SkillsNetwork-21426264&cm_mmca1=000026UJ&cm_mmca2=10006555&cm_mmca3=M12345678&cvosrc=email.Newsletter.M12345678&cvo_campaign=000026UJ&cm_mmc=Email_Newsletter-_-Developer_Ed%2BTech-_-WW_WW-_-SkillsNetwork-Courses-IBM-DA0321EN-SkillsNetwork-21426264&cm_mmca1=000026UJ&cm_mmca2=10006555&cm_mmca3=M12345678&cvosrc=email.Newsletter.M12345678&cvo_campaign=000026UJ&cm_mmc=Email_Newsletter-_-Developer_Ed%2BTech-_-WW_WW-_-SkillsNetwork-Courses-IBM-DA0321EN-SkillsNetwork-21426264&cm_mmca1=000026UJ&cm_mmca2=10006555&cm_mmca3=M12345678&cvosrc=email.Newsletter.M12345678&cvo_campaign=000026UJ).\n"
        }
    ],
    "metadata": {
        "kernelspec": {
            "name": "python3",
            "display_name": "Python 3.7",
            "language": "python"
        },
        "language_info": {
            "name": "python",
            "version": "3.7.10",
            "mimetype": "text/x-python",
            "codemirror_mode": {
                "name": "ipython",
                "version": 3
            },
            "pygments_lexer": "ipython3",
            "nbconvert_exporter": "python",
            "file_extension": ".py"
        }
    },
    "nbformat": 4,
    "nbformat_minor": 4
}